{
 "cells": [
  {
   "cell_type": "code",
   "execution_count": 1,
   "metadata": {},
   "outputs": [
    {
     "data": {
      "text/html": [
       "<div>\n",
       "<style scoped>\n",
       "    .dataframe tbody tr th:only-of-type {\n",
       "        vertical-align: middle;\n",
       "    }\n",
       "\n",
       "    .dataframe tbody tr th {\n",
       "        vertical-align: top;\n",
       "    }\n",
       "\n",
       "    .dataframe thead th {\n",
       "        text-align: right;\n",
       "    }\n",
       "</style>\n",
       "<table border=\"1\" class=\"dataframe\">\n",
       "  <thead>\n",
       "    <tr style=\"text-align: right;\">\n",
       "      <th></th>\n",
       "      <th>type</th>\n",
       "      <th>review</th>\n",
       "      <th>label</th>\n",
       "    </tr>\n",
       "  </thead>\n",
       "  <tbody>\n",
       "    <tr>\n",
       "      <th>0</th>\n",
       "      <td>test</td>\n",
       "      <td>Once again Mr. Costner has dragged out a movie...</td>\n",
       "      <td>neg</td>\n",
       "    </tr>\n",
       "    <tr>\n",
       "      <th>1</th>\n",
       "      <td>test</td>\n",
       "      <td>This is an example of why the majority of acti...</td>\n",
       "      <td>neg</td>\n",
       "    </tr>\n",
       "    <tr>\n",
       "      <th>2</th>\n",
       "      <td>test</td>\n",
       "      <td>First of all I hate those moronic rappers, who...</td>\n",
       "      <td>neg</td>\n",
       "    </tr>\n",
       "    <tr>\n",
       "      <th>3</th>\n",
       "      <td>test</td>\n",
       "      <td>Not even the Beatles could write songs everyon...</td>\n",
       "      <td>neg</td>\n",
       "    </tr>\n",
       "    <tr>\n",
       "      <th>4</th>\n",
       "      <td>test</td>\n",
       "      <td>Brass pictures (movies is not a fitting word f...</td>\n",
       "      <td>neg</td>\n",
       "    </tr>\n",
       "  </tbody>\n",
       "</table>\n",
       "</div>"
      ],
      "text/plain": [
       "   type                                             review label\n",
       "0  test  Once again Mr. Costner has dragged out a movie...   neg\n",
       "1  test  This is an example of why the majority of acti...   neg\n",
       "2  test  First of all I hate those moronic rappers, who...   neg\n",
       "3  test  Not even the Beatles could write songs everyon...   neg\n",
       "4  test  Brass pictures (movies is not a fitting word f...   neg"
      ]
     },
     "execution_count": 1,
     "metadata": {},
     "output_type": "execute_result"
    }
   ],
   "source": [
    "# Load data from file imdb_master.csv\n",
    "import pandas as pd\n",
    "\n",
    "lines = pd.read_csv('imdb_master.csv', encoding='ISO-8859-1')\n",
    "# Remove the rows with missing values\n",
    "data = lines.dropna()\n",
    "# Ignore the values in the label column with the value 'unsup'\n",
    "data = data[data.label != 'unsup']\n",
    "# Remove files column and index column from the csv.\n",
    "data = data.iloc[0:, 1:-1]\n",
    "# Turn the data into dataframe.\n",
    "df=pd.DataFrame(data, columns=['type', 'review', 'label'])\n",
    "df.head()"
   ]
  },
  {
   "cell_type": "code",
   "execution_count": 2,
   "metadata": {},
   "outputs": [
    {
     "data": {
      "text/html": [
       "<div>\n",
       "<style scoped>\n",
       "    .dataframe tbody tr th:only-of-type {\n",
       "        vertical-align: middle;\n",
       "    }\n",
       "\n",
       "    .dataframe tbody tr th {\n",
       "        vertical-align: top;\n",
       "    }\n",
       "\n",
       "    .dataframe thead th {\n",
       "        text-align: right;\n",
       "    }\n",
       "</style>\n",
       "<table border=\"1\" class=\"dataframe\">\n",
       "  <thead>\n",
       "    <tr style=\"text-align: right;\">\n",
       "      <th></th>\n",
       "      <th>type</th>\n",
       "      <th>review</th>\n",
       "      <th>label</th>\n",
       "    </tr>\n",
       "  </thead>\n",
       "  <tbody>\n",
       "    <tr>\n",
       "      <th>0</th>\n",
       "      <td>test</td>\n",
       "      <td>once again mr. costner has dragged out a movie...</td>\n",
       "      <td>neg</td>\n",
       "    </tr>\n",
       "    <tr>\n",
       "      <th>1</th>\n",
       "      <td>test</td>\n",
       "      <td>this is an example of why the majority of acti...</td>\n",
       "      <td>neg</td>\n",
       "    </tr>\n",
       "    <tr>\n",
       "      <th>2</th>\n",
       "      <td>test</td>\n",
       "      <td>first of all i hate those moronic rappers, who...</td>\n",
       "      <td>neg</td>\n",
       "    </tr>\n",
       "    <tr>\n",
       "      <th>3</th>\n",
       "      <td>test</td>\n",
       "      <td>not even the beatles could write songs everyon...</td>\n",
       "      <td>neg</td>\n",
       "    </tr>\n",
       "    <tr>\n",
       "      <th>4</th>\n",
       "      <td>test</td>\n",
       "      <td>brass pictures (movies is not a fitting word f...</td>\n",
       "      <td>neg</td>\n",
       "    </tr>\n",
       "  </tbody>\n",
       "</table>\n",
       "</div>"
      ],
      "text/plain": [
       "   type                                             review label\n",
       "0  test  once again mr. costner has dragged out a movie...   neg\n",
       "1  test  this is an example of why the majority of acti...   neg\n",
       "2  test  first of all i hate those moronic rappers, who...   neg\n",
       "3  test  not even the beatles could write songs everyon...   neg\n",
       "4  test  brass pictures (movies is not a fitting word f...   neg"
      ]
     },
     "execution_count": 2,
     "metadata": {},
     "output_type": "execute_result"
    }
   ],
   "source": [
    "# Text preprocessing: Lowering Case\n",
    "df.review = df.review.apply(lambda x: x.lower())\n",
    "df.head()"
   ]
  },
  {
   "cell_type": "code",
   "execution_count": 3,
   "metadata": {},
   "outputs": [
    {
     "data": {
      "text/html": [
       "<div>\n",
       "<style scoped>\n",
       "    .dataframe tbody tr th:only-of-type {\n",
       "        vertical-align: middle;\n",
       "    }\n",
       "\n",
       "    .dataframe tbody tr th {\n",
       "        vertical-align: top;\n",
       "    }\n",
       "\n",
       "    .dataframe thead th {\n",
       "        text-align: right;\n",
       "    }\n",
       "</style>\n",
       "<table border=\"1\" class=\"dataframe\">\n",
       "  <thead>\n",
       "    <tr style=\"text-align: right;\">\n",
       "      <th></th>\n",
       "      <th>type</th>\n",
       "      <th>review</th>\n",
       "      <th>label</th>\n",
       "    </tr>\n",
       "  </thead>\n",
       "  <tbody>\n",
       "    <tr>\n",
       "      <th>0</th>\n",
       "      <td>test</td>\n",
       "      <td>once again mr. costner has dragged out a movie...</td>\n",
       "      <td>neg</td>\n",
       "    </tr>\n",
       "    <tr>\n",
       "      <th>1</th>\n",
       "      <td>test</td>\n",
       "      <td>this is an example of why the majority of acti...</td>\n",
       "      <td>neg</td>\n",
       "    </tr>\n",
       "    <tr>\n",
       "      <th>2</th>\n",
       "      <td>test</td>\n",
       "      <td>first of all i hate those moronic rappers, who...</td>\n",
       "      <td>neg</td>\n",
       "    </tr>\n",
       "    <tr>\n",
       "      <th>3</th>\n",
       "      <td>test</td>\n",
       "      <td>not even the beatles could write songs everyon...</td>\n",
       "      <td>neg</td>\n",
       "    </tr>\n",
       "    <tr>\n",
       "      <th>4</th>\n",
       "      <td>test</td>\n",
       "      <td>brass pictures (movies is not a fitting word f...</td>\n",
       "      <td>neg</td>\n",
       "    </tr>\n",
       "  </tbody>\n",
       "</table>\n",
       "</div>"
      ],
      "text/plain": [
       "   type                                             review label\n",
       "0  test  once again mr. costner has dragged out a movie...   neg\n",
       "1  test  this is an example of why the majority of acti...   neg\n",
       "2  test  first of all i hate those moronic rappers, who...   neg\n",
       "3  test  not even the beatles could write songs everyon...   neg\n",
       "4  test  brass pictures (movies is not a fitting word f...   neg"
      ]
     },
     "execution_count": 3,
     "metadata": {},
     "output_type": "execute_result"
    }
   ],
   "source": [
    "# Text preprocessing: Contractions\n",
    "import contractions, re\n",
    "import pprint\n",
    "\n",
    "df.review = df.review.apply(lambda x: contractions.fix(x))\n",
    "df.review = df.review.apply(lambda x: re.sub(r\"\\'nt\", \" not\", x))\n",
    "df.head()"
   ]
  },
  {
   "cell_type": "code",
   "execution_count": 4,
   "metadata": {},
   "outputs": [
    {
     "name": "stdout",
     "output_type": "stream",
     "text": [
      "['i', 'me', 'my', 'myself', 'we', 'our', 'ours', 'ourselves', 'you', \"you're\", \"you've\", \"you'll\", \"you'd\", 'your', 'yours', 'yourself', 'yourselves', 'he', 'him', 'his', 'himself', 'she', \"she's\", 'her', 'hers', 'herself', 'it', \"it's\", 'its', 'itself', 'they', 'them', 'their', 'theirs', 'themselves', 'what', 'which', 'who', 'whom', 'this', 'that', \"that'll\", 'these', 'those', 'am', 'is', 'are', 'was', 'were', 'be', 'been', 'being', 'have', 'has', 'had', 'having', 'do', 'does', 'did', 'doing', 'a', 'an', 'the', 'and', 'but', 'if', 'or', 'because', 'as', 'until', 'while', 'of', 'at', 'by', 'for', 'with', 'about', 'against', 'between', 'into', 'through', 'during', 'before', 'after', 'above', 'below', 'to', 'from', 'up', 'down', 'in', 'out', 'on', 'off', 'over', 'under', 'again', 'further', 'then', 'once', 'here', 'there', 'when', 'where', 'why', 'how', 'all', 'any', 'both', 'each', 'few', 'more', 'most', 'other', 'some', 'such', 'no', 'nor', 'only', 'own', 'same', 'so', 'than', 'too', 'very', 's', 't', 'can', 'will', 'just', 'don', \"don't\", 'should', \"should've\", 'now', 'd', 'll', 'm', 'o', 're', 've', 'y', 'ain', 'aren', \"aren't\", 'couldn', \"couldn't\", 'didn', \"didn't\", 'doesn', \"doesn't\", 'hadn', \"hadn't\", 'hasn', \"hasn't\", 'haven', \"haven't\", 'isn', \"isn't\", 'ma', 'mightn', \"mightn't\", 'mustn', \"mustn't\", 'needn', \"needn't\", 'shan', \"shan't\", 'shouldn', \"shouldn't\", 'wasn', \"wasn't\", 'weren', \"weren't\", 'won', \"won't\", 'wouldn', \"wouldn't\"]\n",
      "178\n"
     ]
    }
   ],
   "source": [
    "import nltk\n",
    "from nltk.corpus import stopwords\n",
    "sw_nltk = stopwords.words('english')\n",
    "sw_nltk.remove('not')\n",
    "print(sw_nltk)\n",
    "print(len(sw_nltk))\n"
   ]
  },
  {
   "cell_type": "code",
   "execution_count": 5,
   "metadata": {},
   "outputs": [
    {
     "name": "stdout",
     "output_type": "stream",
     "text": [
      "{'all_words': 11719329}\n"
     ]
    }
   ],
   "source": [
    "# count words in df\n",
    "all_words = []\n",
    "# get unique words from all reviews\n",
    "for i in range(0, len(df)):\n",
    "    all_words.append(df.review[i].split())\n",
    "all_words = [item for sublist in all_words for item in sublist]\n",
    "all_words = list((all_words))\n",
    "\n",
    "print({\n",
    "    'all_words': len(all_words)\n",
    "})\n"
   ]
  },
  {
   "cell_type": "code",
   "execution_count": 6,
   "metadata": {},
   "outputs": [],
   "source": [
    "# Text preprocessing: Stopword removal & Tokenization \n",
    "import nltk \n",
    "from nltk.corpus import stopwords \n",
    "stop_words = set(stopwords.words('english'))\n",
    "word_tokens = []\n",
    "for i in range(0, len(df)):\n",
    "    word_tokens.append(nltk.wordpunct_tokenize(df.review[i]))\n",
    "word_tokens = [[word for word in words if word not in stop_words] for words in word_tokens] \n",
    "word_tokens = [' '.join(words) for words in word_tokens]\n",
    "df.review = word_tokens"
   ]
  },
  {
   "cell_type": "code",
   "execution_count": 7,
   "metadata": {},
   "outputs": [
    {
     "name": "stdout",
     "output_type": "stream",
     "text": [
      "{'all_words_after_stop_words': 8108563}\n"
     ]
    }
   ],
   "source": [
    "# count words in df\n",
    "stop_w = []\n",
    "# get unique words from all reviews\n",
    "for i in range(0, len(df)):\n",
    "    stop_w.append(df.review[i].split())\n",
    "stop_w = [item for sublist in stop_w for item in sublist]\n",
    "stop_w = list((stop_w))\n",
    "\n",
    "print({ 'all_words_after_stop_words': len(stop_w)})"
   ]
  },
  {
   "cell_type": "code",
   "execution_count": 8,
   "metadata": {},
   "outputs": [
    {
     "data": {
      "image/png": "[encoded data removed]",
      "text/plain": [
       "<Figure size 432x288 with 1 Axes>"
      ]
     },
     "metadata": {
      "needs_background": "light"
     },
     "output_type": "display_data"
    }
   ],
   "source": [
    "# plot graph between all_words and all_words_after_stop_words\n",
    "import matplotlib.pyplot as plt\n",
    "# plot bar graph between all_words and all_words_after_stop_words\n",
    "plt.bar(['all_words', 'all_words_after_stop_words'], [len(all_words), len(stop_w)])\n",
    "# show the plot\n",
    "plt.show()\n",
    "\n",
    "\n",
    "\n"
   ]
  },
  {
   "cell_type": "code",
   "execution_count": 9,
   "metadata": {},
   "outputs": [
    {
     "data": {
      "text/html": [
       "<div>\n",
       "<style scoped>\n",
       "    .dataframe tbody tr th:only-of-type {\n",
       "        vertical-align: middle;\n",
       "    }\n",
       "\n",
       "    .dataframe tbody tr th {\n",
       "        vertical-align: top;\n",
       "    }\n",
       "\n",
       "    .dataframe thead th {\n",
       "        text-align: right;\n",
       "    }\n",
       "</style>\n",
       "<table border=\"1\" class=\"dataframe\">\n",
       "  <thead>\n",
       "    <tr style=\"text-align: right;\">\n",
       "      <th></th>\n",
       "      <th>type</th>\n",
       "      <th>review</th>\n",
       "      <th>label</th>\n",
       "    </tr>\n",
       "  </thead>\n",
       "  <tbody>\n",
       "    <tr>\n",
       "      <th>0</th>\n",
       "      <td>test</td>\n",
       "      <td>mr  costner dragged movie far longer necessary...</td>\n",
       "      <td>neg</td>\n",
       "    </tr>\n",
       "    <tr>\n",
       "      <th>1</th>\n",
       "      <td>test</td>\n",
       "      <td>example majority action films  generic boring ...</td>\n",
       "      <td>neg</td>\n",
       "    </tr>\n",
       "    <tr>\n",
       "      <th>2</th>\n",
       "      <td>test</td>\n",
       "      <td>first hate moronic rappers  could act gun pres...</td>\n",
       "      <td>neg</td>\n",
       "    </tr>\n",
       "    <tr>\n",
       "      <th>3</th>\n",
       "      <td>test</td>\n",
       "      <td>even beatles could write songs everyone liked ...</td>\n",
       "      <td>neg</td>\n",
       "    </tr>\n",
       "    <tr>\n",
       "      <th>4</th>\n",
       "      <td>test</td>\n",
       "      <td>brass pictures  movies fitting word  really so...</td>\n",
       "      <td>neg</td>\n",
       "    </tr>\n",
       "  </tbody>\n",
       "</table>\n",
       "</div>"
      ],
      "text/plain": [
       "   type                                             review label\n",
       "0  test  mr  costner dragged movie far longer necessary...   neg\n",
       "1  test  example majority action films  generic boring ...   neg\n",
       "2  test  first hate moronic rappers  could act gun pres...   neg\n",
       "3  test  even beatles could write songs everyone liked ...   neg\n",
       "4  test  brass pictures  movies fitting word  really so...   neg"
      ]
     },
     "execution_count": 9,
     "metadata": {},
     "output_type": "execute_result"
    }
   ],
   "source": [
    "# remove punctuation & html tags\n",
    "import string\n",
    "df.review = df.review.apply(lambda x: re.sub(r'<.*?>', '', x))\n",
    "df.review = df.review.apply(lambda x: re.sub(r'\\s+', ' ', x))\n",
    "df.review = df.review.apply(lambda x: re.sub(r'\\d+', ' ', x))\n",
    "df.review = df.review.apply(lambda x: x.translate(str.maketrans('', '', string.punctuation)))\n",
    "df.review = df.review.apply(lambda x: re.sub(r'https?://\\S+|www\\.\\S+', '', x)) # remove links\n",
    "df.head()"
   ]
  },
  {
   "cell_type": "code",
   "execution_count": 10,
   "metadata": {},
   "outputs": [
    {
     "name": "stdout",
     "output_type": "stream",
     "text": [
      "W: really SS: realli PS: realli\n",
      "W: sure SS: sure PS: sure\n",
      "W: begin SS: begin PS: begin\n",
      "W: start SS: start PS: start\n",
      "W: finish SS: finish PS: finish\n",
      "W: bad SS: bad PS: bad\n",
      "W: stinky SS: stinki PS: stinki\n",
      "W: bad SS: bad PS: bad\n",
      "W: like SS: like PS: like\n",
      "W: stepping SS: step PS: step\n",
      "W: port SS: port PS: port\n",
      "W: john SS: john PS: john\n",
      "W: degree SS: degre PS: degre\n",
      "W: day SS: day PS: day\n",
      "W: force SS: forc PS: forc\n",
      "W: watch SS: watch PS: watch\n",
      "W: keep SS: keep PS: keep\n",
      "W: vicodin SS: vicodin PS: vicodin\n",
      "W: handy SS: handi PS: handi\n",
      "W: pain SS: pain PS: pain\n",
      "W: never SS: never PS: never\n",
      "W: understand SS: understand PS: understand\n",
      "W: flicks SS: flick PS: flick\n",
      "W: bad SS: bad PS: bad\n",
      "W: make SS: make PS: make\n",
      "W: past SS: past PS: past\n",
      "W: cutting SS: cut PS: cut\n",
      "W: room SS: room PS: room\n",
      "W: without SS: without PS: without\n",
      "W: entire SS: entir PS: entir\n",
      "W: reel SS: reel PS: reel\n",
      "W: ending SS: end PS: end\n",
      "W: floor SS: floor PS: floor\n",
      "W: movie SS: movi PS: movi\n",
      "W: cross SS: cross PS: cross\n",
      "W: gumby SS: gumbi PS: gumbi\n",
      "W: rides SS: ride PS: ride\n",
      "W: pokey SS: pokey PS: pokey\n",
      "W: meets SS: meet PS: meet\n",
      "W: terminator SS: termin PS: termin\n",
      "W: meets SS: meet PS: meet\n",
      "W: wally SS: walli PS: walli\n",
      "W: beaver SS: beaver PS: beaver\n",
      "W: playing SS: play PS: play\n",
      "W: cowboys SS: cowboy PS: cowboy\n",
      "W: indians SS: indian PS: indian\n",
      "W: without SS: without PS: without\n",
      "W: cowboys SS: cowboy PS: cowboy\n",
      "W: seen SS: seen PS: seen\n",
      "W: better SS: better PS: better\n",
      "W: animation SS: anim PS: anim\n",
      "W: original SS: origin PS: origin\n",
      "W: cut SS: cut PS: cut\n",
      "W: blob SS: blob PS: blob\n",
      "W: get SS: get PS: get\n",
      "W: entertainment SS: entertain PS: entertain\n",
      "W: watching SS: watch PS: watch\n",
      "W: gone SS: gone PS: gone\n",
      "W: wind SS: wind PS: wind\n",
      "W: suffering SS: suffer PS: suffer\n",
      "W: puke SS: puke PS: puke\n",
      "W: poops SS: poop PS: poop\n",
      "W: bad SS: bad PS: bad\n",
      "W: acting SS: act PS: act\n",
      "W: hokey SS: hokey PS: hokey\n",
      "W: lines SS: line PS: line\n",
      "W: squirming SS: squirm PS: squirm\n",
      "W: wishing SS: wish PS: wish\n",
      "W: rented SS: rent PS: rent\n",
      "W: peewee SS: peewe PS: peewe\n",
      "W: big SS: big PS: big\n",
      "W: top SS: top PS: top\n",
      "W: watched SS: watch PS: watch\n",
      "W: every SS: everi PS: everi\n",
      "W: episode SS: episod PS: episod\n",
      "W: gilligan SS: gilligan PS: gilligan\n",
      "W: island SS: island PS: island\n",
      "W: back SS: back PS: back\n",
      "W: back SS: back PS: back\n",
      "W: ugh SS: ugh PS: ugh\n",
      "W: going SS: go PS: go\n",
      "W: go SS: go PS: go\n",
      "W: slit SS: slit PS: slit\n",
      "W: wrist SS: wrist PS: wrist\n"
     ]
    }
   ],
   "source": [
    "# Text preprocessing: Stemming\n",
    "from nltk.stem import SnowballStemmer, PorterStemmer\n",
    "stemmer = SnowballStemmer(\"english\")\n",
    "pstemmer = PorterStemmer()\n",
    "for word in df.review[500].split(): \n",
    "    print('W:', word, 'SS:', stemmer.stem(word), 'PS:', pstemmer.stem(word))\n"
   ]
  },
  {
   "cell_type": "markdown",
   "metadata": {},
   "source": [
    "# Text Processing: Lemmatization \n",
    "\n",
    "In this notebook, we will not use Lemmatization. `Assign.py` will have a config value for lemmatization.\n",
    "\n",
    "```python\n",
    "from nltk.stem import WordNetLemmatizer\n",
    "nltk.download('wordnet')\n",
    "lemmatizer = WordNetLemmatizer()\n",
    "df.review = df.review.apply(lambda x: ' '.join([lemmatizer.lemmatize(word) for word in x.split()]))\n",
    "df.head()\n",
    "```"
   ]
  },
  {
   "cell_type": "code",
   "execution_count": 11,
   "metadata": {},
   "outputs": [
    {
     "data": {
      "text/html": [
       "<div>\n",
       "<style scoped>\n",
       "    .dataframe tbody tr th:only-of-type {\n",
       "        vertical-align: middle;\n",
       "    }\n",
       "\n",
       "    .dataframe tbody tr th {\n",
       "        vertical-align: top;\n",
       "    }\n",
       "\n",
       "    .dataframe thead th {\n",
       "        text-align: right;\n",
       "    }\n",
       "</style>\n",
       "<table border=\"1\" class=\"dataframe\">\n",
       "  <thead>\n",
       "    <tr style=\"text-align: right;\">\n",
       "      <th></th>\n",
       "      <th>type</th>\n",
       "      <th>review</th>\n",
       "      <th>label</th>\n",
       "    </tr>\n",
       "  </thead>\n",
       "  <tbody>\n",
       "    <tr>\n",
       "      <th>0</th>\n",
       "      <td>train</td>\n",
       "      <td>story man unnatural feelings pig  starts openi...</td>\n",
       "      <td>neg</td>\n",
       "    </tr>\n",
       "    <tr>\n",
       "      <th>1</th>\n",
       "      <td>train</td>\n",
       "      <td>airport    starts brand new luxury   plane loa...</td>\n",
       "      <td>neg</td>\n",
       "    </tr>\n",
       "    <tr>\n",
       "      <th>2</th>\n",
       "      <td>train</td>\n",
       "      <td>film lacked something could put finger first  ...</td>\n",
       "      <td>neg</td>\n",
       "    </tr>\n",
       "    <tr>\n",
       "      <th>3</th>\n",
       "      <td>train</td>\n",
       "      <td>sorry everyone  know supposed  art  film  wow ...</td>\n",
       "      <td>neg</td>\n",
       "    </tr>\n",
       "    <tr>\n",
       "      <th>4</th>\n",
       "      <td>train</td>\n",
       "      <td>little parents took along theater see interior...</td>\n",
       "      <td>neg</td>\n",
       "    </tr>\n",
       "  </tbody>\n",
       "</table>\n",
       "</div>"
      ],
      "text/plain": [
       "    type                                             review label\n",
       "0  train  story man unnatural feelings pig  starts openi...   neg\n",
       "1  train  airport    starts brand new luxury   plane loa...   neg\n",
       "2  train  film lacked something could put finger first  ...   neg\n",
       "3  train  sorry everyone  know supposed  art  film  wow ...   neg\n",
       "4  train  little parents took along theater see interior...   neg"
      ]
     },
     "execution_count": 11,
     "metadata": {},
     "output_type": "execute_result"
    }
   ],
   "source": [
    "df_train = df[df.type == 'train']\n",
    "df_test = df[df.type == 'test']\n",
    "\n",
    "# reset index \n",
    "df_train = df_train.reset_index(drop=True)\n",
    "df_test = df_test.reset_index(drop=True)\n",
    "df_train.head()\n"
   ]
  },
  {
   "cell_type": "code",
   "execution_count": 12,
   "metadata": {},
   "outputs": [
    {
     "name": "stdout",
     "output_type": "stream",
     "text": [
      "{'neg_words': 1471125, 'pos_words': 1532171}\n"
     ]
    }
   ],
   "source": [
    "from pprint import pprint\n",
    "neg_words = df_train[df_train.label == 'neg'].review.apply(lambda x: x.split()).sum()\n",
    "pos_words = df_train[df_train.label == 'pos'].review.apply(lambda x: x.split()).sum()\n",
    "pprint({\n",
    "    'neg_words': len(neg_words),\n",
    "    'pos_words': len(pos_words)\n",
    "})"
   ]
  },
  {
   "cell_type": "code",
   "execution_count": 13,
   "metadata": {},
   "outputs": [
    {
     "name": "stdout",
     "output_type": "stream",
     "text": [
      "{'all_words': 5936529, 'unique_words': 100947}\n"
     ]
    }
   ],
   "source": [
    "all_words = []\n",
    "# get unique words from all reviews\n",
    "for i in range(0, len(df)):\n",
    "    all_words.append(df.review[i].split())\n",
    "all_words = [item for sublist in all_words for item in sublist]\n",
    "all_words = list((all_words))\n",
    "unique_words = list(set(all_words))\n",
    "\n",
    "pprint({\n",
    "    'unique_words': len(unique_words),\n",
    "    'all_words': len(all_words)\n",
    "})"
   ]
  },
  {
   "cell_type": "code",
   "execution_count": 14,
   "metadata": {},
   "outputs": [
    {
     "name": "stdout",
     "output_type": "stream",
     "text": [
      "{'top_10_frequent_words': [('movie', 87956),\n",
      "                           ('film', 79685),\n",
      "                           ('one', 53593),\n",
      "                           ('like', 40170),\n",
      "                           ('would', 31279),\n",
      "                           ('good', 29752),\n",
      "                           ('time', 25098),\n",
      "                           ('even', 24872),\n",
      "                           ('story', 23114),\n",
      "                           ('really', 23093)],\n",
      " 'top_10_unique_words': [('approximated', 1),\n",
      "                         ('chiz', 1),\n",
      "                         ('ureen', 1),\n",
      "                         ('twentyish', 1),\n",
      "                         ('chupacabre', 1),\n",
      "                         ('kaurismã', 1),\n",
      "                         ('massages', 1),\n",
      "                         ('noâ', 1),\n",
      "                         ('reimburse', 1),\n",
      "                         ('glancingly', 1)]}\n"
     ]
    }
   ],
   "source": [
    "# get top 10 frequent words in dataset\n",
    "from collections import Counter\n",
    "c = Counter(all_words)\n",
    "u = Counter(unique_words)\n",
    "pprint({\n",
    "    'top_10_frequent_words': c.most_common(10),\n",
    "    'top_10_unique_words': u.most_common(10)\n",
    "})\n"
   ]
  },
  {
   "cell_type": "code",
   "execution_count": 15,
   "metadata": {},
   "outputs": [
    {
     "name": "stdout",
     "output_type": "stream",
     "text": [
      "{'all_neg_words': 2925215,\n",
      " 'all_pos_words': 3011314,\n",
      " 'count_neg': [('movie', 50108),\n",
      "               ('film', 37585),\n",
      "               ('one', 26273),\n",
      "               ('like', 22457),\n",
      "               ('would', 18021),\n",
      "               ('even', 15254),\n",
      "               ('good', 14727),\n",
      "               ('bad', 14724),\n",
      "               ('really', 12354),\n",
      "               ('time', 12348)],\n",
      " 'count_pos': [('film', 42100),\n",
      "               ('movie', 37848),\n",
      "               ('one', 27320),\n",
      "               ('like', 17713),\n",
      "               ('good', 15025),\n",
      "               ('would', 13258),\n",
      "               ('great', 12964),\n",
      "               ('story', 12930),\n",
      "               ('time', 12750),\n",
      "               ('well', 12722)]}\n"
     ]
    }
   ],
   "source": [
    "all_pos_words = []\n",
    "all_neg_words = []\n",
    "for i in range(len(df)):\n",
    "    if df.label[i] == 'pos':\n",
    "        all_pos_words.append(df.review[i].split())\n",
    "    if df.label[i] == 'neg':\n",
    "        all_neg_words.append(df.review[i].split())\n",
    "all_pos_words = [item for sublist in all_pos_words for item in sublist]\n",
    "all_neg_words = [item for sublist in all_neg_words for item in sublist]\n",
    "all_pos_words = list((all_pos_words))\n",
    "all_neg_words = list((all_neg_words))\n",
    "count_pos = Counter(all_pos_words)\n",
    "count_neg = Counter(all_neg_words)\n",
    "pprint({\n",
    "    'all_pos_words': len(all_pos_words),\n",
    "    'all_neg_words': len(all_neg_words),\n",
    "    'count_pos': count_pos.most_common(10),\n",
    "    'count_neg': count_neg.most_common(10)\n",
    "})\n"
   ]
  },
  {
   "cell_type": "code",
   "execution_count": 16,
   "metadata": {},
   "outputs": [
    {
     "name": "stdout",
     "output_type": "stream",
     "text": [
      "{'unique_neg_words': 53509, 'unique_pos_words': 55216}\n"
     ]
    }
   ],
   "source": [
    "unique_pos_words = []\n",
    "unique_neg_words = []\n",
    "for i in range(0, len(df_train)):\n",
    "    if df_train.label[i] == 'neg':\n",
    "        unique_neg_words.append(df_train.review[i].split())\n",
    "    else:\n",
    "        unique_pos_words.append(df_train.review[i].split())\n",
    "unique_pos_words = [item for sublist in unique_pos_words for item in sublist]\n",
    "unique_pos_words = list(set(unique_pos_words))\n",
    "unique_neg_words = [item for sublist in unique_neg_words for item in sublist]\n",
    "unique_neg_words = list(set(unique_neg_words))\n",
    "pprint({ \n",
    "    'unique_pos_words': len(unique_pos_words),\n",
    "    'unique_neg_words': len(unique_neg_words)\n",
    "})"
   ]
  },
  {
   "cell_type": "code",
   "execution_count": 17,
   "metadata": {},
   "outputs": [],
   "source": [
    "import re\n",
    "\n",
    "def tokenize(text):\n",
    "    return re.split(\"\\W+\", text)\n",
    " \n",
    "def get_word_counts(words):\n",
    "    count_word = {}\n",
    "    for word in words:\n",
    "        count_word[word] = count_word.get(word, 0.0) \n",
    "    return count_word"
   ]
  },
  {
   "cell_type": "code",
   "execution_count": 29,
   "metadata": {},
   "outputs": [],
   "source": [
    "from collections import defaultdict\n",
    "from nltk.tokenize import word_tokenize\n",
    "import math\n",
    "class NaiveBayes:\n",
    "    def __init__(self):\n",
    "        self.nc = {}\n",
    "        self.logprior = {}\n",
    "        self.word_counts = {}\n",
    "        self.vocabulary = set()\n",
    "        self.loglikelihood = defaultdict(defaultdict)\n",
    "\n",
    "    def get_word_counts(self, words):\n",
    "        count_word = {}\n",
    "        for word in words:\n",
    "            count_word[word] = count_word.get(word, 0.0) + 1.0\n",
    "        return count_word\n",
    "        \n",
    "    \n",
    "    def get_bigram_counts(self, words):\n",
    "        count_bigram = {}\n",
    "        for i in range(len(words)-1):\n",
    "            bigram = words[i] + ' ' + words[i+1]\n",
    "            count_bigram[bigram] = count_bigram.get(bigram, 0.0) + 1.0\n",
    "        return count_bigram\n",
    "\n",
    "    def train(self, data, labels):\n",
    "        # Number of docs\n",
    "        Ndoc = len(labels)\n",
    "        # Classes in the data\n",
    "        C = set(labels)\n",
    "\n",
    "        # For each class c belongs to C\n",
    "        for class_ in C:\n",
    "            # Number of docs in class c\n",
    "            self.nc['pos' if class_ == 1 else 'neg'] = labels.count(class_)\n",
    "            # logprior = log(nc/Ndoc)\n",
    "            self.logprior['pos' if class_ == 1 else 'neg'] = math.log(\n",
    "                self.nc['pos' if class_ == 1 else 'neg'] / Ndoc)\n",
    "            self.word_counts['pos' if class_ == 1 else 'neg'] = {}\n",
    "\n",
    "        # bigDoc\n",
    "        for x, y in zip(data, labels):\n",
    "            c = 'pos' if y == 1 else 'neg'\n",
    "            counts = self.get_word_counts(word_tokenize(x))\n",
    "            bigram_counts = self.get_bigram_counts(word_tokenize(x))\n",
    "            for word, count in bigram_counts.items():\n",
    "                if word not in self.vocabulary:\n",
    "                    self.vocabulary.add(word)\n",
    "                if word not in self.word_counts[c]:\n",
    "                    self.word_counts[c][word] = 0.0\n",
    "\n",
    "                self.word_counts[c][word] += count\n",
    "            for word, count in counts.items():\n",
    "                if word not in self.vocabulary:\n",
    "                    self.vocabulary.add(word)\n",
    "                if word not in self.word_counts[c]:\n",
    "                    self.word_counts[c][word] = 0.0\n",
    "\n",
    "                self.word_counts[c][word] += count\n",
    "\n",
    "        for class_ in C:\n",
    "            total_count = 0\n",
    "            # occurrences of w in bigdoc\n",
    "            for word in self.vocabulary:\n",
    "                total_count += self.word_counts['pos' if class_ ==\n",
    "                                                1 else 'neg'].get(word, 0.0)\n",
    "\n",
    "            # loglikelihood[w,c]\n",
    "            for word in self.vocabulary:\n",
    "                count = self.word_counts['pos' if class_ == 1 else 'neg'].get(\n",
    "                    word, 0.0)\n",
    "                self.loglikelihood[class_][word] = (\n",
    "                    (count + 1) / (total_count + 1 * len(self.vocabulary)))\n",
    "\n",
    "    def classify(self, data):\n",
    "        result = []\n",
    "        for x in data:\n",
    "            counts = self.get_word_counts(word_tokenize(x))\n",
    "            bigram_counts = self.get_bigram_counts(word_tokenize(x))\n",
    "            pos_score = 0\n",
    "            neg_score = 0\n",
    "            # sum logprior to score\n",
    "            pos_score += self.logprior['pos']\n",
    "            neg_score += self.logprior['neg']\n",
    "            for word, _ in bigram_counts.items():\n",
    "                try:\n",
    "                    if word in self.vocabulary:\n",
    "                        pos_score += self.loglikelihood['pos'][word]\n",
    "                        neg_score += self.loglikelihood['neg'][word]\n",
    "                except KeyError: \n",
    "                    netural_score = 0\n",
    "                    pos_score += netural_score\n",
    "                    neg_score += netural_score\n",
    "            for word, _ in counts.items():\n",
    "                if word in self.vocabulary:\n",
    "                    pos_score += self.loglikelihood[1][word]\n",
    "                    neg_score += self.loglikelihood[0][word]\n",
    "            # instead of return argmax(sum[c]), we return append the result.\n",
    "            if pos_score > neg_score:\n",
    "                result.append(1)\n",
    "            else:\n",
    "                result.append(0)\n",
    "        return result\n",
    "\n",
    "\n",
    "nb = NaiveBayes()\n",
    "train_review = df_train.review.tolist()\n",
    "train_label = df_train.label.tolist()\n",
    "train_label = [1 if x == 'pos' else 0 for x in train_label]\n",
    "test_review = df_test.review.tolist()\n",
    "test_label = df_test.label.tolist()\n",
    "test_label = [1 if x == 'pos' else 0 for x in test_label]\n",
    "nb.train(train_review, train_label)\n",
    "prediction = nb.classify(df_test.review.tolist())\n"
   ]
  },
  {
   "cell_type": "code",
   "execution_count": 19,
   "metadata": {},
   "outputs": [],
   "source": [
    "# train the model\n",
    "nb = NaiveBayes()\n",
    "train_review = df_train.review.tolist()\n",
    "train_label = df_train.label.tolist()\n",
    "train_label = [1 if x == 'pos' else 0 for x in train_label]\n",
    "test_review = df_test.review.tolist()\n",
    "test_label = df_test.label.tolist()\n",
    "test_label = [1 if x == 'pos' else 0 for x in test_label]\n",
    "nb.train(train_review, train_label)\n"
   ]
  },
  {
   "cell_type": "code",
   "execution_count": 20,
   "metadata": {},
   "outputs": [],
   "source": [
    "prediction = nb.classify(df_test.review.tolist())"
   ]
  },
  {
   "cell_type": "code",
   "execution_count": 21,
   "metadata": {},
   "outputs": [],
   "source": [
    "tpos = 0\n",
    "fpos = 0\n",
    "tneg = 0\n",
    "fneg = 0\n",
    "for i in range(len(prediction)):\n",
    "    if prediction[i] == 1 and test_label[i] == 1:\n",
    "        tpos += 1\n",
    "    elif prediction[i] == 1 and test_label[i] == 0:\n",
    "        tneg += 1\n",
    "    elif prediction[i] == 0 and test_label[i] == 1:\n",
    "        fpos += 1\n",
    "    elif prediction[i] == 0 and test_label[i] == 0:\n",
    "        fneg += 1"
   ]
  },
  {
   "cell_type": "code",
   "execution_count": 22,
   "metadata": {},
   "outputs": [
    {
     "name": "stdout",
     "output_type": "stream",
     "text": [
      "True Positive: 10099\n",
      "False Positive: 2401\n",
      "True Negative: 1656\n",
      "False Negative: 10844\n"
     ]
    },
    {
     "data": {
      "text/plain": [
       "' \\nunigram\\nTrue Positive: 9682\\nFalse Positive: 2818\\nTrue Negative: 1379\\nFalse Negative: 11121\\nbigram\\nTrue Positive: 10437\\nFalse Positive: 2063\\nTrue Negative: 1916\\nFalse Negative: 10584\\n'"
      ]
     },
     "execution_count": 22,
     "metadata": {},
     "output_type": "execute_result"
    }
   ],
   "source": [
    "def confusion_matrix(tpos, fpos, tneg, fneg):\n",
    "    print('True Positive:', tpos)\n",
    "    print('False Positive:', fpos)\n",
    "    print('True Negative:', tneg)\n",
    "    print('False Negative:', fneg)\n",
    "    return {\n",
    "        'TP': tpos,\n",
    "        'FP': fpos,\n",
    "        'TN': tneg,\n",
    "        'FN': fneg\n",
    "    }\n",
    "\n",
    "confusion_matrix(tpos, fpos, tneg, fneg)\n",
    "\n",
    "\"\"\" \n",
    "unigram\n",
    "True Positive: 9682\n",
    "False Positive: 2818\n",
    "True Negative: 1379\n",
    "False Negative: 11121\n",
    "bigram\n",
    "True Positive: 10437\n",
    "False Positive: 2063\n",
    "True Negative: 1916\n",
    "False Negative: 10584\n",
    "\"\"\"\n"
   ]
  },
  {
   "cell_type": "code",
   "execution_count": 23,
   "metadata": {},
   "outputs": [
    {
     "data": {
      "image/png": "[encoded data removed]",
      "text/plain": [
       "<Figure size 720x720 with 2 Axes>"
      ]
     },
     "metadata": {
      "needs_background": "light"
     },
     "output_type": "display_data"
    }
   ],
   "source": [
    "# plot confusion matrix\n",
    "import seaborn as sns\n",
    "import matplotlib.pyplot as plt\n",
    "plt.figure(figsize=(10, 10))\n",
    "sns.heatmap([[tpos], [fpos], [tneg], [fneg]], annot=True, fmt='d', cmap='Blues')\n",
    "plt.show()"
   ]
  },
  {
   "cell_type": "code",
   "execution_count": 24,
   "metadata": {},
   "outputs": [
    {
     "name": "stdout",
     "output_type": "stream",
     "text": [
      "{'f1': 0.80792, 'precision': 0.80792, 'recall': 0.80792}\n"
     ]
    }
   ],
   "source": [
    "precision = tpos / (tpos + fpos)\n",
    "recall = tpos / (tpos + fpos)\n",
    "f1 = 2 * (precision * recall) / (precision + recall)\n",
    "pprint({\n",
    "    'precision': precision,\n",
    "    'recall': recall,\n",
    "    'f1': f1\n",
    "})\n"
   ]
  },
  {
   "cell_type": "code",
   "execution_count": 54,
   "metadata": {},
   "outputs": [],
   "source": [
    "f1_scores = [0.814551679863043,\n",
    "0.8126635493972804,\n",
    "0.8025771625092508,\n",
    " 0.8023002526792715,\n",
    " 0.8069569720771654,\n",
    " 0.8157692635890436,\n",
    " 0.8091104426299958 ,\n",
    " 0.8081382818224924 ,\n",
    " 0.8343136442713941 ,\n",
    " 0.8330850711684873 ,\n",
    " 0.8233050847457628 ,\n",
    " 0.8220267298257486 ,\n",
    " 0.8370572658060246 ,\n",
    " 0.83602561454245 ,\n",
    " 0.8263432424409483 ,\n",
    " 0.8225122902186811,\n",
    " 0.8277606779946873,\n",
    " 0.8267349594861245,\n",
    "0.8087337746067222,\n",
    "0.7968811255826109,\n",
    "0.7974512285602059,\n",
    "0.8015068849051701,\n",
    "0.8014202823244132,\n",
    "0.8013855812946525 ,\n",
    "0.8011400440471563,\n",
    "0.8222631711198591,\n",
    "0.8271992077900644,\n",
    "0.8153755074424898 ,\n",
    "0.8157794596422985,\n",
    "0.8290129816608284  ,\n",
    "0.8290894107952205 ,\n",
    "0.8180316061517604,\n",
    "0.818228019651025]"
   ]
  },
  {
   "cell_type": "code",
   "execution_count": 55,
   "metadata": {},
   "outputs": [
    {
     "data": {
      "image/png": "[encoded data removed]",
      "text/plain": [
       "<Figure size 432x288 with 1 Axes>"
      ]
     },
     "metadata": {
      "needs_background": "light"
     },
     "output_type": "display_data"
    }
   ],
   "source": [
    "# plot f1 score in a graph\n",
    "plt.plot(f1_scores)\n",
    "plt.xlabel('Different Config for Preprocessing')\n",
    "plt.ylabel('F1 Score')\n",
    "plt.show()\n"
   ]
  },
  {
   "cell_type": "code",
   "execution_count": 50,
   "metadata": {},
   "outputs": [
    {
     "data": {
      "image/png": "[encoded data removed]",
      "text/plain": [
       "<Figure size 432x288 with 1 Axes>"
      ]
     },
     "metadata": {
      "needs_background": "light"
     },
     "output_type": "display_data"
    }
   ],
   "source": [
    "f1_score_list = [ 0.8180316061517604, 0.8294503691550452]\n",
    "unigram_values = [9654, 2846, 1449, 11051]\n",
    "bigram_values = [10111, 2389, 1769, 10731]\n",
    "\n",
    "\n",
    "# plot f1 score in a graph\n",
    "plt.plot(f1_score_list)\n",
    "# display config value in the graph \n",
    "plt.xticks(range(len(f1_score_list)), ['Unigram', 'Bigram'])\n",
    "plt.ylabel('F1 Score')\n",
    "plt.show()\n",
    "# plt.savefig('uvsb.png')\n"
   ]
  },
  {
   "cell_type": "code",
   "execution_count": 51,
   "metadata": {},
   "outputs": [
    {
     "name": "stdout",
     "output_type": "stream",
     "text": [
      "16\n"
     ]
    }
   ],
   "source": [
    "configs = []\n",
    "for i in range(2):\n",
    "    for j in range(2):\n",
    "        for k in range(2):\n",
    "            for l in range(2):\n",
    "                configs.append({\n",
    "                    \"stemming\": i,\n",
    "                    \"stop_words_removal\": j,\n",
    "                    \"contractions\": k,\n",
    "                    \"punctuation_removal\": l,\n",
    "                    \"lemmatization\": 0\n",
    "                })\n",
    "print(len(configs))\n"
   ]
  }
 ],
 "metadata": {
  "interpreter": {
   "hash": "b8c9a549a81322c42c5339a73d1a978bbcd5e1afb1daf2c7c0eee404e32dd251"
  },
  "kernelspec": {
   "display_name": "Python 3.9.7 ('base')",
   "language": "python",
   "name": "python3"
  },
  "language_info": {
   "codemirror_mode": {
    "name": "ipython",
    "version": 3
   },
   "file_extension": ".py",
   "mimetype": "text/x-python",
   "name": "python",
   "nbconvert_exporter": "python",
   "pygments_lexer": "ipython3",
   "version": "3.9.7"
  },
  "orig_nbformat": 4
 },
 "nbformat": 4,
 "nbformat_minor": 2
}
