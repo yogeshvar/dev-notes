{
 "cells": [
  {
   "cell_type": "code",
   "execution_count": null,
   "metadata": {},
   "outputs": [],
   "source": [
    "import praw\n",
    "import pandas as pd\n",
    "import requests\n",
    "import time\n",
    "import tqdm\n"
   ]
  },
  {
   "cell_type": "code",
   "execution_count": null,
   "metadata": {},
   "outputs": [],
   "source": [
    "reddit = praw.Reddit(client_id='test', client_secret='test_', user_agent='PARTNER')"
   ]
  },
  {
   "cell_type": "code",
   "execution_count": null,
   "metadata": {},
   "outputs": [],
   "source": [
    "import pandas as pd\n",
    "posts = []\n",
    "sb = reddit.subreddit('roastme')\n",
    "for post in sb.top(limit=10000):\n",
    "    posts.append([post.title, post.score, post.id, post.subreddit,\n",
    "                 post.url, post.num_comments, post.selftext, post.created])\n",
    "posts = pd.DataFrame(posts, columns=[\n",
    "                     'title', 'score', 'id', 'subreddit', 'url', 'num_comments', 'body', 'created'])\n",
    "submission_ids = posts['id'].values"
   ]
  },
  {
   "cell_type": "code",
   "execution_count": null,
   "metadata": {},
   "outputs": [],
   "source": [
    "def get_comments(submission_id):\n",
    "    submission = reddit.submission(id=submission_id)\n",
    "    # get top scored comment\n",
    "    submission.comment_sort = 'top'\n",
    "    submission.comment_limit = 1\n",
    "    top_comment = submission.comments[0]\n",
    "    return top_comment.body\n"
   ]
  },
  {
   "cell_type": "code",
   "execution_count": null,
   "metadata": {},
   "outputs": [],
   "source": [
    "# add comments to dataframe\n",
    "comments = []\n",
    "for submission_id in tqdm.tqdm(submission_ids):\n",
    "    comments.append(get_comments(submission_id))\n",
    "    time.sleep(1)\n",
    "posts['comments'] = comments\n"
   ]
  },
  {
   "cell_type": "code",
   "execution_count": null,
   "metadata": {},
   "outputs": [],
   "source": [
    "# save to csv\n",
    "posts.to_csv('roastme.csv', index=False)"
   ]
  }
 ],
 "metadata": {
  "language_info": {
   "name": "python"
  },
  "orig_nbformat": 4
 },
 "nbformat": 4,
 "nbformat_minor": 2
}
